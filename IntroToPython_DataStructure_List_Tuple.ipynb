{
 "cells": [
  {
   "cell_type": "markdown",
   "metadata": {},
   "source": [
    "## Introduction\n",
    "\n",
    "Why study Data Scructure (DS)? Programs are comprised of two things: **data** and **algorithms**. The algorithms describe the way the data is to be transformed. The reason for learning about data structures is because adding structure to our data can make the algorithms much simpler, easier to maintain, and often faster.\n",
    "\n",
    "Abstract Data Types (ADT) -  a logical description of how we view the data. Examples are **stack**, queue, deque, and list.\n",
    "\n",
    "**Food for thought**: Why does it matter to chose the right DS in your program as long as it solves the problem? \n",
    "\n",
    "**Recommended Read**: [Basic Data Structures](http://interactivepython.org/runestone/static/pythonds/BasicDS/toctree.html)"
   ]
  },
  {
   "cell_type": "markdown",
   "metadata": {},
   "source": [
    "## List\n",
    "\n",
    "A list is a value that contains multiple values in an ordered sequence.\n",
    "\n",
    "**Recommended Read**: [Lists](https://automatetheboringstuff.com/chapter4/)"
   ]
  },
  {
   "cell_type": "code",
   "execution_count": null,
   "metadata": {
    "collapsed": true
   },
   "outputs": [],
   "source": [
    "[1, 2, 3]\n",
    "['cat', 'bat', 'rat', 'elephant', ]\n",
    "# You can put any Data Type in a list or even any objects\n",
    "# ordered sequence\n",
    "['hello', 3.1415, True, None, 42]\n",
    "spam = ['cat', 'bat', 'rat', 'elephant', ]\n",
    "spam\n",
    "\n",
    "# Accessing individual value\n",
    "spam[0]\n",
    "spam[3]\n",
    "spam[-1]\n",
    "spam[10000]\n",
    "spam[int(1.0)]\n",
    "\n",
    "# List in a list\n",
    "spam = [['cat', 'bat'], [10, 20, 30, 40, 50]]\n",
    "spam[0]\n",
    "spam[0][1]\n",
    "spam[1][4]\n",
    "\n",
    "# Sublist and slices\n",
    "spam = ['cat', 'bat', 'rat', 'elephant']\n",
    "spam[0:4]\n",
    "spam[1:3]\n",
    "spam[0:-1]\n",
    "\n",
    "spam = ['cat', 'bat', 'rat', 'elephant']\n",
    "spam[:2]\n",
    "spam[1:]\n",
    "spam[:]\n",
    "\n",
    "# Getting list length\n",
    "spam = ['cat', 'dog', 'moose']\n",
    "len(spam)\n",
    "\n",
    "# Changing values in list\n",
    "spam = ['cat', 'bat', 'rat', 'elephant']\n",
    "spam[1] = 'aardvark'\n",
    "\n",
    "# List concat and replicate\n",
    "[1, 2, 3] + ['A', 'B', 'C']\n",
    "['X', 'Y', 'Z'] * 3\n",
    "spam = [1, 2, 3]\n",
    "spam = spam + ['A', 'B', 'C']\n",
    "\n",
    "# Remove from list\n",
    "spam = ['cat', 'bat', 'rat', 'elephant']\n",
    "del spam[2]"
   ]
  },
  {
   "cell_type": "markdown",
   "metadata": {},
   "source": [
    "# Tuple\n",
    "\n",
    "A tuple is a sequence of immutable Python objects. It consists of a number of values separated by commas"
   ]
  },
  {
   "cell_type": "code",
   "execution_count": null,
   "metadata": {
    "collapsed": true
   },
   "outputs": [],
   "source": [
    "# declaring tuple with ()\n",
    "tup1 = ('physics', 'chemistry', 1997, 2000, );\n",
    "tup2 = (1, 2, 3, 4, 5 );\n",
    "tup3 = \"a\", \"b\", \"c\", \"d\";\n",
    "\n",
    "# declare empty tuple\n",
    "tup1 = ()\n",
    "\n",
    "# declare tuple with single value\n",
    "tup1 = (50,)\n",
    "\n",
    "# tuples may be nested\n",
    "u = t, (1, 2, 3, 4, 5)\n",
    "\n",
    "# accssing tuples\n",
    "tup1 = ('physics', 'chemistry', 1997, 2000);\n",
    "tup2 = (1, 2, 3, 4, 5, 6, 7 );\n",
    "print(\"tup1[0]: \", tup1[0])\n",
    "print(\"tup2[1:5]: \", tup2[1:5])\n",
    "\n",
    "# it shares some similarity with list but more ... \n",
    "# command seperated values - tuple packing\n",
    "t = 12345, 54321, 'hello!'\n",
    "\n",
    "# tuple unpacking - reverse operation\n",
    "x, y, z = t\n",
    "\n",
    "# EXTRA: https://docs.python.org/3/faq/design.html#why-does-python-allow-commas-at-the-end-of-lists-and-tuples\n",
    "# EXTRA: https://docs.python.org/3/library/collections.html#collections.namedtuple"
   ]
  },
  {
   "cell_type": "markdown",
   "metadata": {},
   "source": [
    "# Mutability vs Immutablity\n",
    "\n",
    "![List of Data Types](http://3.bp.blogspot.com/-dKj8fbznuYs/VbyrvHQOifI/AAAAAAAAIis/TsVtzOJjKLM/s1600/class.PNG)"
   ]
  },
  {
   "cell_type": "code",
   "execution_count": null,
   "metadata": {
    "collapsed": true
   },
   "outputs": [],
   "source": [
    "# tuples are immutable\n",
    "t = 12345, 54321, 'hello!'\n",
    "t[0] = 88888\n",
    "\n",
    "# but they can contain mutable objects:\n",
    "v = ([1, 2, 3], [3, 2, 1])\n",
    "print(v)\n",
    "\n",
    "# What do you mean string / boolean / int / float is immutable? Cannot change meh? I change it all the time!\n",
    "\n",
    "# Test to understand mutability vs immutability\n",
    "# immutable type\n",
    "a = 'hello'\n",
    "print(id(a)) # this gives you an address ID of the string value\n",
    "a = 'world'\n",
    "print(id(a)) # this gives you an address ID of the same string value again ... are they the same?\n",
    "\n",
    "# mutable type\n",
    "l = [1,2,3]\n",
    "id(l) # this gives you an address ID of the list value\n",
    "l[0] = 7 # change the value of l[0] to 7\n",
    "id(l) # this gives you an address ID of the same list value ... are they the same?\n",
    "\n",
    "# Now that you know how it works.. finally you understand why certain things are slow (i.e. string concat).."
   ]
  },
  {
   "cell_type": "code",
   "execution_count": null,
   "metadata": {
    "collapsed": true
   },
   "outputs": [],
   "source": [
    "# When shoul you use tuple vs list ?\n",
    "\n",
    "# https://jeffknupp.com/blog/2012/10/04/writing-idiomatic-python/\n",
    "# EXTRA: https://docs.python.org/3/faq/design.html#why-are-there-separate-tuple-and-list-data-types\n",
    "\n",
    "# Now with this knowledge, is mutable or immutable data types \"better\"?\n"
   ]
  },
  {
   "cell_type": "markdown",
   "metadata": {
    "collapsed": true
   },
   "source": [
    "Next Discussion: Looping"
   ]
  }
 ],
 "metadata": {
  "kernelspec": {
   "display_name": "Python 3",
   "language": "python",
   "name": "python3"
  },
  "language_info": {
   "codemirror_mode": {
    "name": "ipython",
    "version": 3
   },
   "file_extension": ".py",
   "mimetype": "text/x-python",
   "name": "python",
   "nbconvert_exporter": "python",
   "pygments_lexer": "ipython3",
   "version": "3.6.1"
  }
 },
 "nbformat": 4,
 "nbformat_minor": 2
}
