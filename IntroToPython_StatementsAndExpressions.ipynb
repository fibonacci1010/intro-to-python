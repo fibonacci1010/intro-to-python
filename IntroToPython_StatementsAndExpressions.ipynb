{
 "cells": [
  {
   "cell_type": "markdown",
   "metadata": {},
   "source": [
    "## Statements\n",
    "\n",
    "A statement is an instruction that the Python interpreter can execute. We have only seen the assignment statement so far. Some other kinds of statements that we’ll see shortly are while statements, for statements, if statements, and import statements. (There are other kinds too!)\n",
    "\n",
    "When you type a statement on the command line, Python executes it. Statements don’t produce any result.\n",
    "\n",
    "## Evaluating Expressions\n",
    "\n",
    "An expression is a combination of values, variables, operators, and calls to functions. If you type an expression at the Python prompt, the interpreter evaluates it and displays the result:\n"
   ]
  },
  {
   "cell_type": "code",
   "execution_count": null,
   "metadata": {
    "collapsed": true
   },
   "outputs": [],
   "source": [
    "# Statements\n",
    "spam = 1 \n",
    "\n",
    "# Can you give some examples of statements ?\n",
    "\n",
    "# Expressions\n",
    "1 + 1\n",
    "len(\"hello\")\n",
    "\n",
    "# Can you give some examples of expressions ?"
   ]
  }
 ],
 "metadata": {
  "kernelspec": {
   "display_name": "Python 3",
   "language": "python",
   "name": "python3"
  },
  "language_info": {
   "codemirror_mode": {
    "name": "ipython",
    "version": 3
   },
   "file_extension": ".py",
   "mimetype": "text/x-python",
   "name": "python",
   "nbconvert_exporter": "python",
   "pygments_lexer": "ipython3",
   "version": "3.6.0"
  }
 },
 "nbformat": 4,
 "nbformat_minor": 2
}
