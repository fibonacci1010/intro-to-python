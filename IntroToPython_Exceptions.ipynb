{
 "cells": [
  {
   "cell_type": "code",
   "execution_count": null,
   "metadata": {
    "collapsed": true
   },
   "outputs": [],
   "source": [
    "# Interfaces - Testing\n",
    "# We've learn to read test cases. Have we noticed how's written?"
   ]
  },
  {
   "cell_type": "code",
   "execution_count": null,
   "metadata": {
    "collapsed": true
   },
   "outputs": [],
   "source": [
    "# Exceptions - reliability, readability\n",
    "# https://www.youtube.com/watch?v=8kTlzR4HhWo - Error Handling in the Real World, Miguel Grinberg\n",
    "# https://www.youtube.com/watch?v=BMtJbrvwlmo - Passing Exceptions 101 Paradigms in Error Handling, Amadine Lee\n",
    "# https://docs.python.org/3/tutorial/errors.html\n",
    "# https://docs.python.org/3/faq/design.html - How fast is Exceptions?\n"
   ]
  },
  {
   "cell_type": "code",
   "execution_count": null,
   "metadata": {
    "collapsed": true
   },
   "outputs": [],
   "source": [
    "# Modules\n",
    "# Goal is to gain a better idea of how everything works and holds together\n",
    "# All Python programmers use the import statement, but do you really know how it works and what it allows?\n",
    "# https://www.youtube.com/watch?v=0oTh1CXRaQ0"
   ]
  }
 ],
 "metadata": {
  "kernelspec": {
   "display_name": "Python 3",
   "language": "python",
   "name": "python3"
  },
  "language_info": {
   "codemirror_mode": {
    "name": "ipython",
    "version": 3
   },
   "file_extension": ".py",
   "mimetype": "text/x-python",
   "name": "python",
   "nbconvert_exporter": "python",
   "pygments_lexer": "ipython3",
   "version": "3.6.1"
  }
 },
 "nbformat": 4,
 "nbformat_minor": 2
}
