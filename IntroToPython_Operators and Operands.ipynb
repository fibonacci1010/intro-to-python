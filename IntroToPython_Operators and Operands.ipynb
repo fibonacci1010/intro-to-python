{
 "cells": [
  {
   "cell_type": "markdown",
   "metadata": {},
   "source": [
    "# Operators and Operands"
   ]
  },
  {
   "cell_type": "markdown",
   "metadata": {},
   "source": [
    "This is very much like what you learnt in your math class...\n",
    "\n",
    "If you’re working with expressions where you need floating point values, use the division operator `/`. If you want an integer result, use `//`.\n",
    "\n",
    "![operators and operands](https://raw.githubusercontent.com/wwcodekl/python102/master/images/operators.png)"
   ]
  },
  {
   "cell_type": "code",
   "execution_count": null,
   "metadata": {
    "collapsed": true
   },
   "outputs": [],
   "source": [
    "quotient = 7 // 3     # This is the integer division operator\n",
    "print(quotient)\n",
    "remainder = 7 % 3\n",
    "print(remainder)"
   ]
  },
  {
   "cell_type": "markdown",
   "metadata": {},
   "source": [
    "## Order of Operations (Precedence)"
   ]
  },
  {
   "cell_type": "markdown",
   "metadata": {},
   "source": [
    "The order of operations (also called precedence) of Python math operators is similar to that of mathematics.The \\** operator is evaluated first; the *, /, //, and % operators are evaluated next, from left to right (except for \\** which evaluates from right to left); and the + and - operators are evaluated last (also from left to right). You can use parentheses to override the usual precedence if you need to."
   ]
  },
  {
   "cell_type": "code",
   "execution_count": null,
   "metadata": {
    "collapsed": true
   },
   "outputs": [],
   "source": [
    "# What is the answer?\n",
    "16 - 2 * 5 // 3 + 1\n",
    "\n",
    "# What happens if you add 'a' and 'b' (i.e. a+b) ?\n",
    "# How do you think it looks in bytes (what the computer sees)? Can you imagine how the computer displays \n",
    "# operations like this in byte? Do you now understands how powerful programming language is? \n",
    "# Otherwise, you'll need to write program in binaries ...."
   ]
  },
  {
   "cell_type": "markdown",
   "metadata": {},
   "source": [
    "Next Discussion: Strings Manipulation"
   ]
  }
 ],
 "metadata": {
  "kernelspec": {
   "display_name": "Python 3",
   "language": "python",
   "name": "python3"
  },
  "language_info": {
   "codemirror_mode": {
    "name": "ipython",
    "version": 3
   },
   "file_extension": ".py",
   "mimetype": "text/x-python",
   "name": "python",
   "nbconvert_exporter": "python",
   "pygments_lexer": "ipython3",
   "version": "3.6.1"
  }
 },
 "nbformat": 4,
 "nbformat_minor": 2
}
