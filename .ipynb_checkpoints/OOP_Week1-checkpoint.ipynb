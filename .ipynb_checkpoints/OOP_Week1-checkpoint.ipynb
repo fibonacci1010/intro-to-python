{
 "cells": [
  {
   "cell_type": "code",
   "execution_count": null,
   "metadata": {
    "collapsed": true
   },
   "outputs": [],
   "source": [
    "# https://jeffknupp.com/blog/2014/06/18/improve-your-python-python-classes-and-object-oriented-programming/\n",
    "# objects vs instance, attributes, methods vs functions\n",
    "# magic of attribute access (vs magic methods)\n",
    "# magic methods (i.e. __type__ (behaviour), __dict__ (data))\n",
    "# inheritance vs LSP/duck-typing)\n",
    "# staticmethods, classmethods\n",
    "\n",
    "# Advanced OOP\n",
    "# ABC (Abtsract Base Class)\n",
    "# https://jeffknupp.com/blog/2013/12/28/improve-your-python-metaclasses-and-dynamic-classes-with-type/\n",
    "\n",
    "# Advance Python\n",
    "# Decorators and descriptors - FP"
   ]
  }
 ],
 "metadata": {
  "kernelspec": {
   "display_name": "Python 3",
   "language": "python",
   "name": "python3"
  },
  "language_info": {
   "codemirror_mode": {
    "name": "ipython",
    "version": 3
   },
   "file_extension": ".py",
   "mimetype": "text/x-python",
   "name": "python",
   "nbconvert_exporter": "python",
   "pygments_lexer": "ipython3",
   "version": "3.6.1"
  }
 },
 "nbformat": 4,
 "nbformat_minor": 2
}
