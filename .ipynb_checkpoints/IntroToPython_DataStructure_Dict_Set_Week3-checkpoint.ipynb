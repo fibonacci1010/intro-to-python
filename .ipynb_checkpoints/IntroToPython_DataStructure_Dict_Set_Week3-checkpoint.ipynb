{
 "cells": [
  {
   "cell_type": "markdown",
   "metadata": {},
   "source": [
    "## Set\n",
    "\n",
    "A set is an unordered collection with no duplicate elements. Basic uses include membership testing and eliminating duplicate entries. Set objects also support mathematical operations like union, intersection, difference, and symmetric difference.\n",
    "\n",
    "**Mutable**\n",
    "\n",
    "Where does Set comes from?  \n",
    "https://en.wikipedia.org/wiki/Set_(mathematics)  \n",
    "https://www.mathsisfun.com/sets/sets-introduction.html"
   ]
  },
  {
   "cell_type": "code",
   "execution_count": null,
   "metadata": {
    "collapsed": true
   },
   "outputs": [],
   "source": [
    "# https://docs.python.org/3/tutorial/datastructures.html#sets\n",
    "\n",
    "basket = {'apple', 'orange', 'apple', 'pear', 'orange', 'banana'}\n",
    "print(basket)                      # show that duplicates have been removed\n",
    "{'orange', 'banana', 'pear', 'apple'}\n",
    "\n",
    "'orange' in basket                 # fast membership testing\n",
    "'crabgrass' in basket\n",
    "\n",
    "# Demonstrate set operations on unique letters from two words\n",
    "empty_set = ()\n",
    "empty_set = set('aaaa')\n",
    "empty_set\n",
    "a = set('abracadabra')\n",
    "b = set('alacazam')\n",
    "a                                  # unique letters in a\n",
    "{'a', 'r', 'b', 'c', 'd'}\n",
    "a - b                              # letters in a but not in b\n",
    "{'r', 'd', 'b'}\n",
    "a | b                              # letters in a or b or both\n",
    "{'a', 'c', 'r', 'd', 'b', 'm', 'z', 'l'}\n",
    "a & b                              # letters in both a and b\n",
    "{'a', 'c'}\n",
    "a ^ b                              # letters in a or b but not both\n",
    "{'r', 'd', 'b', 'm', 'z', 'l'}"
   ]
  },
  {
   "cell_type": "markdown",
   "metadata": {},
   "source": [
    "## Dictionary\n",
    "\n",
    "Flexible way to access and organize data. Unlike indexes for lists, indexes for dictionaries can use many different data types, not just integers. Indexes for dictionaries are called keys, and a key with its associated value is called a key-value pair.\n",
    "\n",
    "AKA - \"Associate Array\", \"Map\", \"Hash Map\"\n",
    "\n",
    "**Mutable**\n",
    "\n",
    "### What's under the hood ...\n",
    "\"Internally, dictionaries are implemented as **hash tables** (data structures that support very fast retrieval), which start small and grow on demand.  Moreover, Python employs optimized hashing algorithms to find keys, so retrieval is very fast.\" - Lutz and Ascher -\n",
    "\n",
    "Do you have an idea what hash table is (Hint: It's a type of ADT)?  \n",
    "https://en.wikipedia.org/wiki/Hash_table#Implementations\n",
    "\n",
    "### A dozen of great ideas ...\n",
    "1960s - Hashing  \n",
    "1970s - Databases: Concept of Table (Column vs. Row)  \n",
    "![Database and Index](https://raw.githubusercontent.com/wwcodekl/intro-to-python/master/dict-db.png)\n",
    "1960s - 1970s - LISP: Association List  \n",
    "1950s - Separate Chaining (Hashing means reducing the size of the search space)  \n",
    "[Slides from Raymond Hettinger](https://web.archive.org/web/20161209120353/https://dl.dropboxusercontent.com/u/3967849/sfmu2/_build/html/index.html)  \n",
    "https://docs.python.org/3/faq/design.html?highlight=dictionary#how-are-dictionaries-implemented  \n",
    "https://jeffknupp.com/blog/2015/08/30/python-dictionaries/  \n",
    "\n",
    "How should we **NOT** use dictionary?\n",
    "\n",
    "**Recommended Watch**:  \n",
    "[Modern Python Dictionaries - A confluence of a dozen great ideas by Raymond Hettinger](https://www.youtube.com/watch?v=66P5FMkWoVU)  \n",
    "[The Dictionary Even Mightier by Brandon Rhodes](https://www.youtube.com/watch?v=66P5FMkWoVU)  "
   ]
  },
  {
   "cell_type": "code",
   "execution_count": null,
   "metadata": {
    "collapsed": true
   },
   "outputs": [],
   "source": [
    "# https://docs.python.org/3/tutorial/datastructures.html#dictionaries\n",
    "a_list = [1, 2, 4]\n",
    "dict({'key'= a_list})\n",
    "\n",
    "myCat = {'size': 'fat', 'color': 'gray', 'disposition': 'loud'}\n",
    "myCat['size']\n",
    "spam = {12345: 'Luggage Combination', 42: 'The Answer'}\n",
    "\n",
    "# Checking is key exists in a dictionary\n",
    "spam = {'name': 'Zophie', 'age': 7}\n",
    "'name' in spam.keys()\n",
    "'Zophie' in spam.values()\n",
    "\n",
    "# Get() method\n",
    "picnicItems = {'apples': 5, 'cups': 2}\n",
    "'I am bringing ' + str(picnicItems.get('cups', 0)) + ' cups.'\n",
    "'I am bringing ' + str(picnicItems.get('eggs', 0)) + ' eggs.' #What happens if you don't use get() ?\n",
    "\n",
    "# Aliasing and Copying\n",
    "opposites = {'up': 'down', 'right': 'wrong', 'true': 'false'}\n",
    "alias = opposites\n",
    "\n",
    "print(alias is opposites)\n",
    "\n",
    "alias['right'] = 'left'\n",
    "print(opposites['right'])\n",
    "\n",
    "# YIKES ... What just happened?\n",
    "\n",
    "acopy = opposites.copy()\n",
    "acopy['right'] = 'left'    # does not change opposites"
   ]
  },
  {
   "cell_type": "markdown",
   "metadata": {},
   "source": [
    "## Nested Dictionaries and Lists"
   ]
  },
  {
   "cell_type": "code",
   "execution_count": null,
   "metadata": {
    "collapsed": true
   },
   "outputs": [],
   "source": [
    "allGuests = {'Alice': {'apples': 5, 'pretzels': 12},\n",
    "                'Bob': {'ham sandwiches': 3, 'apples': 2},\n",
    "                'Carol': {'cups': 3, 'apple pies': 1}}\n",
    "\n",
    "guest = allGuests['Alice']\n",
    "\n",
    "for k, v in allGuests.items():\n",
    "    print(\"Apples from %s is %s\" % (k, str(v.get('apples', 0))) )"
   ]
  },
  {
   "cell_type": "markdown",
   "metadata": {},
   "source": [
    "Next Discussion: Advance Function - Scoping"
   ]
  },
  {
   "cell_type": "code",
   "execution_count": null,
   "metadata": {
    "collapsed": true
   },
   "outputs": [],
   "source": [
    "# https://jeffknupp.com/blog/2013/02/14/drastically-improve-your-python-understanding-pythons-execution-model/"
   ]
  }
 ],
 "metadata": {
  "kernelspec": {
   "display_name": "Python 3",
   "language": "python",
   "name": "python3"
  },
  "language_info": {
   "codemirror_mode": {
    "name": "ipython",
    "version": 3
   },
   "file_extension": ".py",
   "mimetype": "text/x-python",
   "name": "python",
   "nbconvert_exporter": "python",
   "pygments_lexer": "ipython3",
   "version": "3.6.1"
  }
 },
 "nbformat": 4,
 "nbformat_minor": 2
}
