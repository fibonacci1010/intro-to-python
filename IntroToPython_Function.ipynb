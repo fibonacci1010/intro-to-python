{
 "cells": [
  {
   "cell_type": "markdown",
   "metadata": {},
   "source": [
    "## Functions\n",
    "What are some of the Python built-in functions?\n",
    "\n",
    "You can also write your own functions. A function is like a mini-program within a program.Functions allow us to:-\n",
    "1. Reuse Code\n",
    "2. Abstract Functionality\n",
    "3. Divide code (Think in smaller chunks)\n",
    "4. Encapsulate\n",
    "5. Make our code easier to test\n",
    "\n",
    "Example: https://repl.it/DygD/0 and https://repl.it/DygD/2   \n",
    "Credit: https://rmotr.com"
   ]
  },
  {
   "cell_type": "code",
   "execution_count": null,
   "metadata": {
    "collapsed": true
   },
   "outputs": [],
   "source": [
    "# What does function reminds you? Did you learn this in school?\n",
    "# What do you notice in this program? \n",
    "# How is the function any better?\n",
    "# How does function gets represented in memory?"
   ]
  },
  {
   "cell_type": "markdown",
   "metadata": {},
   "source": [
    "Next Discussion: Control Flow (optional)"
   ]
  }
 ],
 "metadata": {
  "kernelspec": {
   "display_name": "Python 3",
   "language": "python",
   "name": "python3"
  },
  "language_info": {
   "codemirror_mode": {
    "name": "ipython",
    "version": 3
   },
   "file_extension": ".py",
   "mimetype": "text/x-python",
   "name": "python",
   "nbconvert_exporter": "python",
   "pygments_lexer": "ipython3",
   "version": "3.6.1"
  }
 },
 "nbformat": 4,
 "nbformat_minor": 2
}
