{
 "cells": [
  {
   "cell_type": "markdown",
   "metadata": {},
   "source": [
    "# Flow Controls"
   ]
  },
  {
   "cell_type": "code",
   "execution_count": null,
   "metadata": {
    "collapsed": true
   },
   "outputs": [],
   "source": [
    "# Can I skip this topic? Is it easily understood without explanation?"
   ]
  },
  {
   "cell_type": "markdown",
   "metadata": {},
   "source": [
    "So you know the basics of individual instructions and that a program is just a series of instructions. But the real strength of programming isn’t just running (or executing) one instruction after another like a weekend errand list. Based on how the expressions evaluate, the program can decide to skip instructions, repeat them, or choose one of several instructions to run. \n",
    "\n",
    "Flow control statements can decide which Python instructions to execute under which conditions.\n",
    "\n",
    "![Flow Control](https://automatetheboringstuff.com/images/000105.jpg)"
   ]
  },
  {
   "cell_type": "markdown",
   "metadata": {},
   "source": [
    "## Boolean Values"
   ]
  },
  {
   "cell_type": "markdown",
   "metadata": {},
   "source": [
    "Boolean data type has only two values: True and False. (Boolean is capitalized because the data type is named after mathematician George Boole.)"
   ]
  },
  {
   "cell_type": "code",
   "execution_count": null,
   "metadata": {
    "collapsed": true
   },
   "outputs": [],
   "source": [
    "# Declare Boolean\n",
    "spam = True\n",
    "spam\n",
    "\n",
    "# Try to assign expression to Boolean\n",
    "True = 2 + 2"
   ]
  },
  {
   "cell_type": "markdown",
   "metadata": {},
   "source": [
    "## Comparison Operators (Relational)"
   ]
  },
  {
   "cell_type": "markdown",
   "metadata": {},
   "source": [
    "Comparison operators compare two values and evaluate down to a single Boolean value. These operators evaluate to True or False depending on the values you give them. \n",
    "\n",
    "![Operator Comparison](https://raw.githubusercontent.com/wwcodekl/python102/master/images/operator_comparison.png)\n"
   ]
  },
  {
   "cell_type": "code",
   "execution_count": null,
   "metadata": {
    "collapsed": true
   },
   "outputs": [],
   "source": [
    "# Trying out with ==\n",
    "42 == 42\n",
    "42 == 99\n",
    "'hello' == 'hello'\n",
    "'hello' == 'Hello'"
   ]
  },
  {
   "cell_type": "code",
   "execution_count": null,
   "metadata": {
    "collapsed": true
   },
   "outputs": [],
   "source": [
    "# Trying out with !=\n",
    "2 != 3\n",
    "2 != 2\n",
    "\n",
    "42.0 != 42\n",
    "42 != '42'"
   ]
  },
  {
   "cell_type": "code",
   "execution_count": null,
   "metadata": {
    "collapsed": true
   },
   "outputs": [],
   "source": [
    "# Try out with other comparison operators here (i.e. >, <)"
   ]
  },
  {
   "cell_type": "markdown",
   "metadata": {},
   "source": [
    "Notes: You might have noticed that the == operator (equal to) has two equal signs, while the = operator (assignment) has just one equal sign. \n",
    "\n",
    "The == operator (equal to) asks whether two values are the same as each other.\n",
    "\n",
    "The = operator (assignment) puts the value on the right into the variable on the left."
   ]
  },
  {
   "cell_type": "markdown",
   "metadata": {},
   "source": [
    "## Logical Operators"
   ]
  },
  {
   "cell_type": "markdown",
   "metadata": {},
   "source": [
    "The and and or operators always take two Boolean values (or expressions), so they’re considered binary operators. The not operator simply evaluates to the opposite Boolean value.\n",
    "\n",
    "The and Operator’s Truth Table\n",
    "![and Operator](https://raw.githubusercontent.com/wwcodekl/python102/master/images/operator_binarycomparison_and.png)\n",
    "\n",
    "The or Operator’s Truth Table\n",
    "![or Operator](https://raw.githubusercontent.com/wwcodekl/python102/master/images/operator_binarycomparison_or.png)\n",
    "\n",
    "The NOT Operator’s Truth Table\n",
    "![not Operator](https://raw.githubusercontent.com/wwcodekl/python102/master/images/operator_binarycomparison_not.png)"
   ]
  },
  {
   "cell_type": "code",
   "execution_count": null,
   "metadata": {
    "collapsed": true
   },
   "outputs": [],
   "source": [
    "# Try out with and Operator\n",
    "True and True\n",
    "(4 < 5) and (5 < 6)\n",
    "\n",
    "# or Operator\n",
    "False or True\n",
    "(5 > 8) or (5 != 7)\n",
    "\n",
    "# not Operator\n",
    "not True\n",
    "not 2 + 2 = 5"
   ]
  },
  {
   "cell_type": "markdown",
   "metadata": {},
   "source": [
    "## Elements of Flow Control"
   ]
  },
  {
   "cell_type": "markdown",
   "metadata": {},
   "source": [
    "### Conditions\n",
    "The Boolean expressions you’ve seen so far could all be considered conditions, which are the same thing as expressions. Conditions always evaluate down to a Boolean value, True or False. A flow control statement decides what to do based on whether its condition is True or False.\n",
    "\n",
    "### Blocks of Codes\n",
    "Lines of Python code can be grouped together in blocks. You can tell when a block begins and ends from the indentation of the lines of code. There are three rules for blocks.\n",
    "\n",
    "Blocks begin when the indentation increases.\n",
    "\n",
    "Blocks can contain other blocks.\n",
    "\n",
    "Blocks end when the indentation decreases to zero or to a containing block’s indentation.\n",
    "\n",
    "![Blocks of Codes](https://raw.githubusercontent.com/wwcodekl/python102/master/images/flow_control_blocks_of_code.png)"
   ]
  },
  {
   "cell_type": "markdown",
   "metadata": {},
   "source": [
    "## Flow Control Statements"
   ]
  },
  {
   "cell_type": "markdown",
   "metadata": {},
   "source": [
    "### IF Statement\n",
    "\n",
    "An if statement’s clause (that is, the block following the if statement) will execute if the statement’s condition is True. The clause is skipped if the condition is False.\n",
    "\n",
    "In Python, an if statement consists of the following:\n",
    "\n",
    "* The if keyword\n",
    "* A condition (that is, an expression that evaluates to True or False)\n",
    "* A colon\n",
    "* Starting on the next line, an indented block of code (called the if clause)\n",
    "\n",
    "![If Statement](https://automatetheboringstuff.com/images/000019.jpg)\n",
    "\n",
    "### Else Statement\n",
    "The else clause is executed only when the if statement’s condition is False. An else statement always consists of the following:\n",
    "\n",
    "* The else keyword\n",
    "* A colon\n",
    "* Starting on the next line, an indented block of code (called the else clause)\n",
    "\n",
    "![Else Statement](https://automatetheboringstuff.com/images/000106.png)"
   ]
  },
  {
   "cell_type": "code",
   "execution_count": null,
   "metadata": {
    "collapsed": true
   },
   "outputs": [],
   "source": [
    "name == 'Bob'\n",
    "if name == 'Alice':\n",
    "    print('Hi, Alice!')\n",
    "else:\n",
    "    print('Hello stranger!')"
   ]
  },
  {
   "cell_type": "markdown",
   "metadata": {},
   "source": [
    "### Elif Statement\n",
    "The elif statement is an “else if” statement that always follows an if or another elif statement. It provides another condition that is checked only if all of the previous conditions were False. \n",
    "\n",
    "In code, an elif statement always consists of the following:\n",
    "\n",
    "* The elif keyword\n",
    "* A condition (that is, an expression that evaluates to True or False)\n",
    "* A colon\n",
    "* Starting on the next line, an indented block of code (called the elif clause)\n",
    "\n",
    "![Elif Statement](https://automatetheboringstuff.com/images/000107.png)"
   ]
  },
  {
   "cell_type": "code",
   "execution_count": null,
   "metadata": {
    "collapsed": true
   },
   "outputs": [],
   "source": [
    "name = 'Bob'\n",
    "age = 5\n",
    "\n",
    "if name == 'CY':\n",
    "    print('Hello CY!')\n",
    "    print('How are you CY?')\n",
    "\n",
    "\n",
    "\n",
    "if name == 'Alice':\n",
    "    print('Hi Alice!')\n",
    "elif age < 12:\n",
    "    print('You are not Alice, kiddo')\n",
    "elif age > 100:\n",
    "    print('You are not Alice, grannie')\n",
    "else:\n",
    "    print('something else')"
   ]
  },
  {
   "cell_type": "markdown",
   "metadata": {},
   "source": [
    "## Nested Conditions\n",
    "\n",
    "One conditional can also be nested within another. \n",
    "\n",
    "![Nested Conditions](http://interactivepython.org/runestone/static/thinkcspy/_images/flowchart_nested_conditional.png)"
   ]
  },
  {
   "cell_type": "code",
   "execution_count": null,
   "metadata": {
    "collapsed": true
   },
   "outputs": [],
   "source": [
    "if x < y:\n",
    "    print(\"x is less than y\")\n",
    "else:\n",
    "    if x > y:\n",
    "        print(\"x is greater than y\")\n",
    "    else:\n",
    "        print(\"x and y must be equal\")"
   ]
  },
  {
   "cell_type": "markdown",
   "metadata": {},
   "source": [
    "Note: We'll cover more flow controls with Looping later."
   ]
  },
  {
   "cell_type": "markdown",
   "metadata": {},
   "source": [
    "## Work on To-Do List\n",
    "\n",
    "Try to print out the input from user's selection like this:  \n",
    "\n",
    "You have selected \"View your to-do list\".   \n",
    "You have selected \"Create a to-do\".   \n",
    "etc\n"
   ]
  }
 ],
 "metadata": {
  "kernelspec": {
   "display_name": "Python 3",
   "language": "python",
   "name": "python3"
  },
  "language_info": {
   "codemirror_mode": {
    "name": "ipython",
    "version": 3
   },
   "file_extension": ".py",
   "mimetype": "text/x-python",
   "name": "python",
   "nbconvert_exporter": "python",
   "pygments_lexer": "ipython3",
   "version": "3.6.1"
  }
 },
 "nbformat": 4,
 "nbformat_minor": 2
}
