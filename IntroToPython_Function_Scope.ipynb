{
 "cells": [
  {
   "cell_type": "markdown",
   "metadata": {},
   "source": [
    "# Advanced Function\n",
    "\n",
    "Default Argument - https://repl.it/EHMN\n",
    "\n",
    "## Scope and Block\n",
    "The scope of a function is determine by the block - https://jeffknupp.com/blog/2013/02/14/drastically-improve-your-python-understanding-pythons-execution-model/\n",
    "\n",
    "Why do you need this idea?\n",
    "\n",
    "LEGB (local, enclosed, global, built-in) Rules:-  \n",
    "1. Checks the scope at the innermost block\n",
    "2. Checks the scope that contains the innermost block\n",
    "3. Continues on ...\n",
    "4. Anything that define at module (or script) level is global. These are accessible anyhwere - https://repl.it/EHNl\n",
    "\n",
    "### More super power\n",
    "1. Function can redefine it's on scope - https://repl.it/EHNl/1\n",
    "2. Function can't modify global variable - https://repl.it/EHNl/3\n",
    "3. Except if we explicitly make it happen - https://repl.it/MisT\n",
    "4. But it's BAD\n",
    "\n",
    "In practice, it is usually a bad idea to modify global variables inside the function scope, since it often be the cause of confusion and weird errors that are hard to debug.  \n",
    "\n",
    "If you want to modify a global variable via a function, it is recommended to pass it as an argument and reassign the return-value.  \n",
    "\n",
    "http://sebastianraschka.com/Articles/2014_python_scope_and_namespaces.html"
   ]
  },
  {
   "cell_type": "code",
   "execution_count": null,
   "metadata": {
    "collapsed": true
   },
   "outputs": [],
   "source": []
  }
 ],
 "metadata": {
  "kernelspec": {
   "display_name": "Python 3",
   "language": "python",
   "name": "python3"
  },
  "language_info": {
   "codemirror_mode": {
    "name": "ipython",
    "version": 3
   },
   "file_extension": ".py",
   "mimetype": "text/x-python",
   "name": "python",
   "nbconvert_exporter": "python",
   "pygments_lexer": "ipython3",
   "version": "3.6.1"
  }
 },
 "nbformat": 4,
 "nbformat_minor": 2
}
