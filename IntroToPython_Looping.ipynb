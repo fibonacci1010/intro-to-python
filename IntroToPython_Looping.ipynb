{
 "cells": [
  {
   "cell_type": "markdown",
   "metadata": {},
   "source": [
    "# Looping\n",
    "\n",
    "One of the trait of a program should have is automate a task to run a certain amount of time. Looping allow repeat the same action / idea over and over again without repeating codes.\n",
    "\n",
    "bit.ly/pyloop\n",
    "Note: There is also an accompanying video - https://www.youtube.com/watch?v=u8g9scXeAcI\n",
    "\n",
    "\n",
    "1. Why do we need different ways of looping? What will be some of the problems with looping?\n",
    "2. What is considered an efficient looping?\n",
    "3. The complexity of computing world falls at making program runs more efficiently - software vs. hardware\n",
    "https://medium.com/@kevalpatel2106/why-should-you-learn-go-f607681fad65"
   ]
  },
  {
   "cell_type": "code",
   "execution_count": null,
   "metadata": {
    "collapsed": true
   },
   "outputs": [],
   "source": []
  }
 ],
 "metadata": {
  "kernelspec": {
   "display_name": "Python 3",
   "language": "python",
   "name": "python3"
  },
  "language_info": {
   "codemirror_mode": {
    "name": "ipython",
    "version": 3
   },
   "file_extension": ".py",
   "mimetype": "text/x-python",
   "name": "python",
   "nbconvert_exporter": "python",
   "pygments_lexer": "ipython3",
   "version": "3.6.1"
  }
 },
 "nbformat": 4,
 "nbformat_minor": 2
}
